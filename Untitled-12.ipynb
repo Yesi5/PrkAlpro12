{
 "cells": [
  {
   "cell_type": "code",
   "execution_count": 3,
   "metadata": {},
   "outputs": [
    {
     "name": "stdout",
     "output_type": "stream",
     "text": [
      "True\n",
      "False\n",
      "True\n"
     ]
    }
   ],
   "source": [
    "# LATIHAN 1\n",
    "\n",
    "def check_all_same(tuples):\n",
    "    if len(tuples) <= 1:\n",
    "        return True\n",
    "    \n",
    "    first_element = tuples[0]\n",
    "    \n",
    "    for element in tuples:\n",
    "        if element != first_element:\n",
    "            return False\n",
    "    \n",
    "    return True\n",
    "\n",
    "tA = (90, 90, 90, 90)\n",
    "tB = (10, 20, 30, 40)\n",
    "tC = (15, 15, 15, 15, 15)\n",
    "\n",
    "print(check_all_same(tA))\n",
    "print(check_all_same(tB))\n",
    "print(check_all_same(tC))\n"
   ]
  },
  {
   "cell_type": "code",
   "execution_count": 4,
   "metadata": {},
   "outputs": [
    {
     "name": "stdout",
     "output_type": "stream",
     "text": [
      "NIM : 22064091\n",
      "NAMA : Matahari Bhakti Nendya\n",
      "ALAMAT : Bantul, DI Yogyakarta\n",
      "NIM: ('2', '2', '0', '6', '4', '0', '9', '1')\n",
      "NAMA DEPAN: ('M', 'a', 't', 'a', 'h', 'a', 'r', 'i')\n",
      "NAMA TERBALIK: ('Nendya', 'Bhakti', 'Matahari')\n"
     ]
    }
   ],
   "source": [
    "# LATIHAN 2\n",
    "\n",
    "data_diri = ('Matahari Bhakti Nendya', '22064091', 'Bantul, DI Yogyakarta')\n",
    "\n",
    "nama, nim, alamat = data_diri\n",
    "\n",
    "print(\"NIM :\", nim)\n",
    "print(\"NAMA :\", nama)\n",
    "print(\"ALAMAT :\", alamat)\n",
    "\n",
    "nim_tuple = tuple(nim)\n",
    "print(\"NIM:\", nim_tuple)\n",
    "\n",
    "nama_depan = tuple(nama.split()[0])\n",
    "print(\"NAMA DEPAN:\", nama_depan)\n",
    "\n",
    "nama_terbalik = tuple(reversed(nama.split()))\n",
    "print(\"NAMA TERBALIK:\", nama_terbalik)\n"
   ]
  },
  {
   "cell_type": "code",
   "execution_count": 1,
   "metadata": {},
   "outputs": [
    {
     "name": "stdout",
     "output_type": "stream",
     "text": [
      "04 2\n",
      "05 1\n",
      "06 1\n",
      "08 1\n",
      "09 3\n",
      "10 1\n",
      "11 2\n",
      "14 2\n",
      "16 1\n",
      "17 1\n",
      "18 1\n",
      "19 1\n"
     ]
    }
   ],
   "source": [
    "# LATIHAN 3\n",
    "\n",
    "name_file = \"mbox-short.txt\"\n",
    "try:\n",
    "    handle = open(name_file)\n",
    "except:\n",
    "    print(\"File cannot be opened:\", name_file)\n",
    "    exit()\n",
    "\n",
    "counts = dict()\n",
    "for line in handle:\n",
    "    if line.startswith(\"From \"):\n",
    "        words = line.split()\n",
    "        time = words[5].split(\":\")\n",
    "        hour = time[0]\n",
    "        counts[hour] = counts.get(hour, 0) + 1\n",
    "\n",
    "for k, v in sorted(counts.items()):\n",
    "    print(k, v)\n"
   ]
  }
 ],
 "metadata": {
  "kernelspec": {
   "display_name": "Python 3",
   "language": "python",
   "name": "python3"
  },
  "language_info": {
   "codemirror_mode": {
    "name": "ipython",
    "version": 3
   },
   "file_extension": ".py",
   "mimetype": "text/x-python",
   "name": "python",
   "nbconvert_exporter": "python",
   "pygments_lexer": "ipython3",
   "version": "3.12.0"
  }
 },
 "nbformat": 4,
 "nbformat_minor": 2
}
